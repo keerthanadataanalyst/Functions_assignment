{
 "cells": [
  {
   "cell_type": "code",
   "execution_count": 16,
   "id": "fc4cbbb9-217d-4b02-b531-f6ae13d4eecc",
   "metadata": {},
   "outputs": [],
   "source": [
    "# 3. Implement a Python function that takes a list of integers and returns a new list containing the squares of each number.\n",
    "\n",
    "def square_numbers(a):\n",
    "    result = []\n",
    "    for i in a:\n",
    "        result.append(i ** 2)\n",
    "    return result"
   ]
  },
  {
   "cell_type": "code",
   "execution_count": 22,
   "id": "30eabb39-ae26-49c8-8b89-f6dabffb37ea",
   "metadata": {},
   "outputs": [
    {
     "data": {
      "text/plain": [
       "[9, 16, 36]"
      ]
     },
     "execution_count": 22,
     "metadata": {},
     "output_type": "execute_result"
    }
   ],
   "source": [
    "square_numbers([3,4,6])"
   ]
  },
  {
   "cell_type": "code",
   "execution_count": null,
   "id": "7b5abd7c-71da-499c-af8e-12d4c8329650",
   "metadata": {},
   "outputs": [],
   "source": [
    "#1. Write a Python function that takes a list of numbers as input and returns the sum of all even numbers in the list.\n"
   ]
  },
  {
   "cell_type": "code",
   "execution_count": 40,
   "id": "ab93d202-24dd-40b2-8d8b-4bf72b4cdf3f",
   "metadata": {},
   "outputs": [],
   "source": [
    "def sum_of_even_numbers(numbers):\n",
    "    even_sum = 0\n",
    "    for num in numbers:\n",
    "        if num % 2 == 0:\n",
    "            even_sum += num\n",
    "        return(even_sum)\n"
   ]
  },
  {
   "cell_type": "code",
   "execution_count": 53,
   "id": "44b5c4cc-2f44-4745-beb4-12f1fb507a6e",
   "metadata": {},
   "outputs": [
    {
     "name": "stdout",
     "output_type": "stream",
     "text": [
      "Sum of even numbers: 12\n"
     ]
    }
   ],
   "source": [
    "numbers = [1, 2, 3, 4, 5, 6\n",
    "print(\"Sum of even numbers:\", sum_of_even_numbers(numbers))"
   ]
  },
  {
   "cell_type": "code",
   "execution_count": null,
   "id": "173f9ee8-6bef-4d0a-8462-79196b8ea5e9",
   "metadata": {},
   "outputs": [],
   "source": [
    "# 2. Create a Python function that accepts a string and returns the reverse of that string."
   ]
  },
  {
   "cell_type": "code",
   "execution_count": 248,
   "id": "4900d233-0f15-4cf1-bd59-bbf783ec1516",
   "metadata": {},
   "outputs": [],
   "source": [
    "def reverse_string(s):\n",
    "    return s[::-1]"
   ]
  },
  {
   "cell_type": "code",
   "execution_count": 250,
   "id": "383271e2-adcb-475e-a318-1170d95d9022",
   "metadata": {},
   "outputs": [
    {
     "name": "stdout",
     "output_type": "stream",
     "text": [
      "Original String: Hello, World!\n",
      "Reverse String: !dlroW ,olleH\n"
     ]
    }
   ],
   "source": [
    "input_string = \"Hello, World!\"\n",
    "reverse_string = reverse_string(input_string)\n",
    "print(\"Original String:\", input_string)\n",
    "print(\"Reverse String:\", reverse_string)"
   ]
  },
  {
   "cell_type": "code",
   "execution_count": null,
   "id": "7673bfd4-c1a2-424b-97bf-23589500f303",
   "metadata": {},
   "outputs": [],
   "source": [
    "# 5. Create an iterator class in Python that generates the Fibonacci sequence up to a specified number of terms."
   ]
  },
  {
   "cell_type": "code",
   "execution_count": 108,
   "id": "cbfe4cbf-a5b9-41f4-acdd-4618b6d1bf05",
   "metadata": {},
   "outputs": [],
   "source": [
    "#A. Fibonacci sequence - Sum of last 2 numbers - 0,1,1,2,3,5,8......\n",
    "\n",
    "def fib(n):\n",
    "    a = 0\n",
    "    b = 1\n",
    "    for i in range(n):\n",
    "        yield a\n",
    "        a, b = b, a+b\n",
    "   "
   ]
  },
  {
   "cell_type": "code",
   "execution_count": 110,
   "id": "5d335ce0-7f5e-4374-94b3-6d65617250ec",
   "metadata": {},
   "outputs": [],
   "source": [
    "f = fib(10)"
   ]
  },
  {
   "cell_type": "code",
   "execution_count": 112,
   "id": "501b41e8-66bd-4e29-a90e-3585709132ef",
   "metadata": {},
   "outputs": [
    {
     "data": {
      "text/plain": [
       "0"
      ]
     },
     "execution_count": 112,
     "metadata": {},
     "output_type": "execute_result"
    }
   ],
   "source": [
    "next(f)"
   ]
  },
  {
   "cell_type": "code",
   "execution_count": 114,
   "id": "73a9f702-8133-4c3a-9485-48dbe5c9f2d4",
   "metadata": {},
   "outputs": [
    {
     "data": {
      "text/plain": [
       "1"
      ]
     },
     "execution_count": 114,
     "metadata": {},
     "output_type": "execute_result"
    }
   ],
   "source": [
    "next(f)"
   ]
  },
  {
   "cell_type": "code",
   "execution_count": 116,
   "id": "9353fc52-27ba-4910-9c6f-a4cc4c205001",
   "metadata": {},
   "outputs": [
    {
     "data": {
      "text/plain": [
       "1"
      ]
     },
     "execution_count": 116,
     "metadata": {},
     "output_type": "execute_result"
    }
   ],
   "source": [
    "next(f)"
   ]
  },
  {
   "cell_type": "code",
   "execution_count": 120,
   "id": "98a82f2d-bd96-4b06-9b80-a012e3dae2f7",
   "metadata": {},
   "outputs": [
    {
     "data": {
      "text/plain": [
       "2"
      ]
     },
     "execution_count": 120,
     "metadata": {},
     "output_type": "execute_result"
    }
   ],
   "source": [
    "next(f)"
   ]
  },
  {
   "cell_type": "code",
   "execution_count": 122,
   "id": "c13fb38b-08f0-44da-bf87-7d086a7aa384",
   "metadata": {},
   "outputs": [
    {
     "data": {
      "text/plain": [
       "3"
      ]
     },
     "execution_count": 122,
     "metadata": {},
     "output_type": "execute_result"
    }
   ],
   "source": [
    "next(f)"
   ]
  },
  {
   "cell_type": "code",
   "execution_count": 124,
   "id": "0b0d103d-9ab0-4ab3-9496-a885f1309b5a",
   "metadata": {},
   "outputs": [
    {
     "data": {
      "text/plain": [
       "5"
      ]
     },
     "execution_count": 124,
     "metadata": {},
     "output_type": "execute_result"
    }
   ],
   "source": [
    "next(f)"
   ]
  },
  {
   "cell_type": "code",
   "execution_count": 126,
   "id": "ab36dc68-e7bd-4e26-9d6e-2445bc926e00",
   "metadata": {},
   "outputs": [
    {
     "data": {
      "text/plain": [
       "8"
      ]
     },
     "execution_count": 126,
     "metadata": {},
     "output_type": "execute_result"
    }
   ],
   "source": [
    "next(f)"
   ]
  },
  {
   "cell_type": "code",
   "execution_count": 128,
   "id": "aecc218a-0f51-43dd-8a12-d13638a9faf1",
   "metadata": {},
   "outputs": [
    {
     "data": {
      "text/plain": [
       "13"
      ]
     },
     "execution_count": 128,
     "metadata": {},
     "output_type": "execute_result"
    }
   ],
   "source": [
    "next(f)"
   ]
  },
  {
   "cell_type": "code",
   "execution_count": 130,
   "id": "ae429d8b-31b3-4305-bde3-3c36751c9f0e",
   "metadata": {},
   "outputs": [
    {
     "data": {
      "text/plain": [
       "21"
      ]
     },
     "execution_count": 130,
     "metadata": {},
     "output_type": "execute_result"
    }
   ],
   "source": [
    "next(f)"
   ]
  },
  {
   "cell_type": "code",
   "execution_count": 135,
   "id": "eaac8130-44e2-4396-b08f-e9f2616d33a2",
   "metadata": {},
   "outputs": [
    {
     "data": {
      "text/plain": [
       "34"
      ]
     },
     "execution_count": 135,
     "metadata": {},
     "output_type": "execute_result"
    }
   ],
   "source": [
    "next(f)"
   ]
  },
  {
   "cell_type": "code",
   "execution_count": 137,
   "id": "ac84d6e7-81b0-413e-8ce1-b434047af1d0",
   "metadata": {},
   "outputs": [
    {
     "ename": "StopIteration",
     "evalue": "",
     "output_type": "error",
     "traceback": [
      "\u001b[0;31m---------------------------------------------------------------------------\u001b[0m",
      "\u001b[0;31mStopIteration\u001b[0m                             Traceback (most recent call last)",
      "Cell \u001b[0;32mIn[137], line 1\u001b[0m\n\u001b[0;32m----> 1\u001b[0m \u001b[38;5;28mnext\u001b[39m(f)\n",
      "\u001b[0;31mStopIteration\u001b[0m: "
     ]
    }
   ],
   "source": [
    "next(f)"
   ]
  },
  {
   "cell_type": "code",
   "execution_count": 145,
   "id": "8de0efb0-983d-4d96-896c-b44e5b9f8036",
   "metadata": {},
   "outputs": [],
   "source": [
    "# 6. Write a generator function in Python that yields the powers of 2 up to a given exponent.\n",
    "\n",
    "def power_of_2(a):\n",
    "    for i in range(a):\n",
    "        yield i **2\n"
   ]
  },
  {
   "cell_type": "code",
   "execution_count": 147,
   "id": "910c92fc-1aed-4292-945d-4dc8971ba4b7",
   "metadata": {},
   "outputs": [
    {
     "data": {
      "text/plain": [
       "<generator object power_of_2 at 0x1466b0fb0>"
      ]
     },
     "execution_count": 147,
     "metadata": {},
     "output_type": "execute_result"
    }
   ],
   "source": [
    "power_of_2(5)"
   ]
  },
  {
   "cell_type": "code",
   "execution_count": 149,
   "id": "a6ff4307-06ea-430d-9fba-9fabb81c8d38",
   "metadata": {},
   "outputs": [],
   "source": [
    "a = power_of_2(5)"
   ]
  },
  {
   "cell_type": "code",
   "execution_count": 152,
   "id": "4d06a994-9176-4a28-9441-f6d694ebd897",
   "metadata": {},
   "outputs": [
    {
     "data": {
      "text/plain": [
       "0"
      ]
     },
     "execution_count": 152,
     "metadata": {},
     "output_type": "execute_result"
    }
   ],
   "source": [
    "next(a)"
   ]
  },
  {
   "cell_type": "code",
   "execution_count": 154,
   "id": "68d13d1a-0ffc-4db2-9e92-0827e80dba21",
   "metadata": {},
   "outputs": [
    {
     "data": {
      "text/plain": [
       "1"
      ]
     },
     "execution_count": 154,
     "metadata": {},
     "output_type": "execute_result"
    }
   ],
   "source": [
    "next(a)"
   ]
  },
  {
   "cell_type": "code",
   "execution_count": 156,
   "id": "2ac0bf17-afd0-4669-b376-5c75607dff49",
   "metadata": {},
   "outputs": [
    {
     "data": {
      "text/plain": [
       "4"
      ]
     },
     "execution_count": 156,
     "metadata": {},
     "output_type": "execute_result"
    }
   ],
   "source": [
    "next(a)"
   ]
  },
  {
   "cell_type": "code",
   "execution_count": 158,
   "id": "ccd5aacf-4412-454d-bf16-bb6497bcba7f",
   "metadata": {},
   "outputs": [
    {
     "data": {
      "text/plain": [
       "9"
      ]
     },
     "execution_count": 158,
     "metadata": {},
     "output_type": "execute_result"
    }
   ],
   "source": [
    "next(a)"
   ]
  },
  {
   "cell_type": "code",
   "execution_count": 160,
   "id": "37b5fff7-ee37-4f25-9fab-bb1febcb1c96",
   "metadata": {},
   "outputs": [
    {
     "data": {
      "text/plain": [
       "16"
      ]
     },
     "execution_count": 160,
     "metadata": {},
     "output_type": "execute_result"
    }
   ],
   "source": [
    "next(a)"
   ]
  },
  {
   "cell_type": "code",
   "execution_count": 162,
   "id": "c697503b-6e52-4d84-9f32-d9b1919350eb",
   "metadata": {},
   "outputs": [
    {
     "ename": "StopIteration",
     "evalue": "",
     "output_type": "error",
     "traceback": [
      "\u001b[0;31m---------------------------------------------------------------------------\u001b[0m",
      "\u001b[0;31mStopIteration\u001b[0m                             Traceback (most recent call last)",
      "Cell \u001b[0;32mIn[162], line 1\u001b[0m\n\u001b[0;32m----> 1\u001b[0m \u001b[38;5;28mnext\u001b[39m(a)\n",
      "\u001b[0;31mStopIteration\u001b[0m: "
     ]
    }
   ],
   "source": [
    "next(a)"
   ]
  },
  {
   "cell_type": "code",
   "execution_count": null,
   "id": "81a32908-cfbb-44c4-8832-9be2ac562a2a",
   "metadata": {},
   "outputs": [],
   "source": [
    "# 7. Implement a generator function that reads a file line by line and yields each line as a string."
   ]
  },
  {
   "cell_type": "code",
   "execution_count": 314,
   "id": "9850c89f-c587-4db3-82d5-648855f15205",
   "metadata": {},
   "outputs": [],
   "source": [
    "def read_file_line_by_line(file_path):\n",
    "    with open (file_path, 'r') as file: #open the file and 'r' is read\n",
    "        for line in file:\n",
    "            yield line.strip() # strip removes unnecessary spaces\n",
    "    "
   ]
  },
  {
   "cell_type": "code",
   "execution_count": 316,
   "id": "fc9935a7-d0f1-4c56-8872-000cd95fff11",
   "metadata": {},
   "outputs": [
    {
     "name": "stdout",
     "output_type": "stream",
     "text": [
      "Hello, this is a keerthana.\n",
      "I am here practicing python.\n",
      "I like to practice python.\n"
     ]
    }
   ],
   "source": [
    "for line in read_file_line_by_line(\"keerthi.txt\"):\n",
    "    print(line) "
   ]
  },
  {
   "cell_type": "code",
   "execution_count": null,
   "id": "2e003e5c-c515-4c01-be8e-fa3953706acd",
   "metadata": {},
   "outputs": [],
   "source": [
    "# 8. Use a lambda function in Python to sort a list of tuples based on the second element of each tuple.\n"
   ]
  },
  {
   "cell_type": "code",
   "execution_count": 266,
   "id": "1cdaf214-5843-4b05-afe2-69654464ee21",
   "metadata": {},
   "outputs": [
    {
     "name": "stdout",
     "output_type": "stream",
     "text": [
      "[(21, 'ajay'), (42, 'kamala'), (32, 'mani')]\n"
     ]
    }
   ],
   "source": [
    "#A. \n",
    "a = [(21,\"ajay\"), (32,\"mani\"), (42,\"kamala\")]\n",
    "sorted_data = sorted( a, key = lambda a : a[1]) #[1] is the position of the tuple which we want to sort\n",
    "print(sorted_data)"
   ]
  },
  {
   "cell_type": "code",
   "execution_count": 272,
   "id": "9277eae4-6e0d-4d62-b912-28bce7ca986d",
   "metadata": {},
   "outputs": [
    {
     "name": "stdout",
     "output_type": "stream",
     "text": [
      "[(21, 'ajay'), (32, 'mani'), (42, 'kamala')]\n"
     ]
    }
   ],
   "source": [
    "# not included in question, just for practice \n",
    "a = [(21,\"ajay\"), (32,\"mani\"), (42,\"kamala\")]\n",
    "sorted_data = sorted( a, key = lambda a : a[0]) \n",
    "print(sorted_data)"
   ]
  },
  {
   "cell_type": "code",
   "execution_count": null,
   "id": "dd06c1ba-20b5-4e55-bee4-d0f159bc1590",
   "metadata": {},
   "outputs": [],
   "source": [
    "#9. Write a Python program that uses `map()` to convert a list of temperatures from Celsius to Fahrenheit.\n"
   ]
  },
  {
   "cell_type": "code",
   "execution_count": 294,
   "id": "e295d987-0455-43f4-ada2-03febff3704f",
   "metadata": {},
   "outputs": [
    {
     "name": "stdout",
     "output_type": "stream",
     "text": [
      "[86.0, 113.0, 158.0]\n"
     ]
    }
   ],
   "source": [
    "c = [30,45,70] # c is celsius\n",
    "\n",
    "F = list(map(lambda temp : (9/5)* temp + 32, c)) # F if Fahrenheit\n",
    "print(F)"
   ]
  },
  {
   "cell_type": "code",
   "execution_count": null,
   "id": "3690e34d-2ca7-446b-b5de-4dcd6b539963",
   "metadata": {},
   "outputs": [],
   "source": [
    "#10. Create a Python program that uses `filter()` to remove all the vowels from a given string."
   ]
  },
  {
   "cell_type": "code",
   "execution_count": 332,
   "id": "168f4bf1-25e9-4f84-9d8b-46ef7e888430",
   "metadata": {},
   "outputs": [
    {
     "name": "stdout",
     "output_type": "stream",
     "text": [
      "Hll,Krthn\n"
     ]
    }
   ],
   "source": [
    "# A. \n",
    "string = \"Hello,Keerthana\"\n",
    "\n",
    "# Use filter() to remove vowels\n",
    "vowels = \"aeiou\"\n",
    "\n",
    "# Use filter to keep characters that are not vowels\n",
    "filtered_string = ''.join(filter(lambda char: char.lower() not in vowels, string))\n",
    "\n",
    "print(filtered_string)\n"
   ]
  },
  {
   "cell_type": "code",
   "execution_count": null,
   "id": "e33f2a70-3d78-44e6-93dc-d22d817a8b40",
   "metadata": {},
   "outputs": [],
   "source": [
    "# 4. Write a Python function that checks if a given number is prime or not from 1 to 200."
   ]
  },
  {
   "cell_type": "code",
   "execution_count": 351,
   "id": "6158c0de-5197-43fb-a80f-15370d5d94be",
   "metadata": {},
   "outputs": [
    {
     "name": "stdout",
     "output_type": "stream",
     "text": [
      "Prime numbers between 1 and 200 are:\n",
      "[2, 3, 5, 7, 11, 13, 17, 19, 23, 29, 31, 37, 41, 43, 47, 53, 59, 61, 67, 71, 73, 79, 83, 89, 97, 101, 103, 107, 109, 113, 127, 131, 137, 139, 149, 151, 157, 163, 167, 173, 179, 181, 191, 193, 197, 199]\n"
     ]
    }
   ],
   "source": [
    "# A. A prime number is a number that can only be divided by itself and 1 without remainders.\n",
    "def num_is_prime(num):\n",
    "    \"\"\"Check if a number is prime.\"\"\"\n",
    "    if num < 2:  # Numbers less than 2 are not prime\n",
    "        return False\n",
    "    for i in range(2, int(num ** 0.5) + 1):\n",
    "        # If a number is not prime, you’ll always find a divisor before or at its square root\n",
    "        if num % i == 0:\n",
    "            return False\n",
    "    return True\n",
    "\n",
    "def find_primes(start, end):\n",
    "    \"\"\"Find all prime numbers in a given range.\"\"\"\n",
    "    primes = []\n",
    "    for num in range(start, end + 1):  # (end+1) because Python excludes the end value in range\n",
    "        if num_is_prime(num):\n",
    "            primes.append(num)\n",
    "    return primes\n",
    "\n",
    "# Call the function to find primes between 1 and 200\n",
    "primes = find_primes(1, 200)\n",
    "print(\"Prime numbers between 1 and 200 are:\")\n",
    "print(primes)"
   ]
  },
  {
   "cell_type": "code",
   "execution_count": null,
   "id": "408cc950-5858-47c1-ba5d-f0954f65962d",
   "metadata": {},
   "outputs": [],
   "source": [
    "# 11 \n",
    "# Write a Python program, which returns a list with 2-tuples. Each tuple consists of the order number and the product of the price per item and the quantity. \n",
    "#The product should be increased by 10,- € if the value of the order is smaller than 100,00 €.\n",
    "\n"
   ]
  },
  {
   "cell_type": "code",
   "execution_count": 358,
   "id": "06d15919-6e6d-4749-946c-d4505ed5e51a",
   "metadata": {},
   "outputs": [
    {
     "name": "stdout",
     "output_type": "stream",
     "text": [
      "[(34587, 173.8), (98762, 294.0), (77226, 108.85000000000001), (88112, 84.97)]\n"
     ]
    }
   ],
   "source": [
    "# Sample data: List of orders with order number, quantity, and price per item\n",
    "orders = [\n",
    "    (34587, 4, 40.95),  # Order number 34587: 4 items, 40.95 per item\n",
    "    (98762, 5, 56.80),  # Order number 98762: 5 items, 56.80 per item\n",
    "    (77226, 3, 32.95),  # Order number 77226: 3 items, 32.95 per item\n",
    "    (88112, 3, 24.99)   # Order number 88112: 3 items, 24.99 per item\n",
    "]\n",
    "\n",
    "# Using lambda and map to calculate the order totals with 'item' \n",
    "order_totals = list(map(\n",
    "    lambda item: (item[0], item[1] * item[2] + (10 if item[1] * item[2] < 100000 else 0)),\n",
    "    orders\n",
    ")) \n",
    "\n",
    "# as [0] is the order code, [1] is the number of items, [2] is the price per item\n",
    "# as mentioned in the question if number of items and cost are multiplied, \n",
    "#if the value is not exceeding 100, than we will be adding 10 to it\n",
    "\n",
    "# Print the final result\n",
    "print(order_totals)\n"
   ]
  },
  {
   "cell_type": "code",
   "execution_count": null,
   "id": "a9c6420c-e645-41a6-a0b1-8749fa96628f",
   "metadata": {},
   "outputs": [],
   "source": []
  },
  {
   "cell_type": "code",
   "execution_count": null,
   "id": "d653c246-7745-4cf7-94c0-4ec3932df059",
   "metadata": {},
   "outputs": [],
   "source": []
  }
 ],
 "metadata": {
  "kernelspec": {
   "display_name": "Python 3 (ipykernel)",
   "language": "python",
   "name": "python3"
  },
  "language_info": {
   "codemirror_mode": {
    "name": "ipython",
    "version": 3
   },
   "file_extension": ".py",
   "mimetype": "text/x-python",
   "name": "python",
   "nbconvert_exporter": "python",
   "pygments_lexer": "ipython3",
   "version": "3.12.7"
  }
 },
 "nbformat": 4,
 "nbformat_minor": 5
}
