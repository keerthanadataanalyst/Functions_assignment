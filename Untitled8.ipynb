{
 "cells": [
  {
   "cell_type": "code",
   "execution_count": null,
   "id": "1c232052-9b75-4f76-9ae6-d9cd60e163a5",
   "metadata": {},
   "outputs": [],
   "source": [
    "# Functions assignment"
   ]
  },
  {
   "cell_type": "code",
   "execution_count": null,
   "id": "fdd1fa5f-10f4-4f22-a0e3-76a2c6d6d90c",
   "metadata": {},
   "outputs": [],
   "source": [
    "# 1. "
   ]
  },
  {
   "cell_type": "code",
   "execution_count": null,
   "id": "fbf8af94-aa31-40b0-b346-43a42ad5976b",
   "metadata": {},
   "outputs": [],
   "source": [
    "# A. In Python, the main difference between a function and a method is that a function is independent and can be called from anywhere, \n",
    "# A method is associated with an object or class and must be called on an object or within a class"
   ]
  },
  {
   "cell_type": "code",
   "execution_count": null,
   "id": "9778cd2c-dad7-4c99-8b68-07d9b69fe23c",
   "metadata": {},
   "outputs": [],
   "source": [
    "#Function - Independent blocks of code that perform a specific task.\n",
    "# Functions can be called by name and reused to make code more organized and manageable"
   ]
  },
  {
   "cell_type": "code",
   "execution_count": null,
   "id": "a7271656-b5de-4a18-9cea-4aeed36cf287",
   "metadata": {},
   "outputs": [],
   "source": [
    "# Method - Functions that are associated with an object or class. \n",
    "# Methods are accessed using dot notation and are dependent on the class they are associated with."
   ]
  },
  {
   "cell_type": "code",
   "execution_count": null,
   "id": "b66997ea-2358-4df1-bbaa-e555b61e1986",
   "metadata": {},
   "outputs": [],
   "source": [
    "# code reusabilty - functions can be reused while methods are behaviour specific to object"
   ]
  },
  {
   "cell_type": "code",
   "execution_count": null,
   "id": "32198507-0e3d-49f5-a90b-3f50d9fd1b5e",
   "metadata": {},
   "outputs": [],
   "source": [
    "# syntax\n",
    "# function - \n",
    "'''\n",
    "def function_name(parameters):\n",
    "\n",
    "    # Optional docstring explaining the purpose of the function.\n",
    "\n",
    "    # Function body: Write the logic here\n",
    "    \n",
    "    return value  # Optional, returns a result\n",
    "'''"
   ]
  },
  {
   "cell_type": "code",
   "execution_count": 112,
   "id": "0cf289a8-0295-4822-ad36-a577a7af9057",
   "metadata": {},
   "outputs": [],
   "source": [
    "# function example\n",
    "\n",
    "def greetings(name):\n",
    "    print (\"welcome to home\", name)"
   ]
  },
  {
   "cell_type": "code",
   "execution_count": 116,
   "id": "8dcff965-217f-42c0-81b8-87af14fc14dd",
   "metadata": {},
   "outputs": [
    {
     "name": "stdout",
     "output_type": "stream",
     "text": [
      "welcome to home keerthi\n"
     ]
    }
   ],
   "source": [
    "greetings(\"keerthi\")"
   ]
  },
  {
   "cell_type": "code",
   "execution_count": null,
   "id": "e07ff4cb-8a37-4cf3-b2e9-fe4f40f9e321",
   "metadata": {},
   "outputs": [],
   "source": [
    "# method syntax\n",
    "'''\n",
    "class ClassName:\n",
    "    def method_name(self, parameters):\n",
    "        # Method body\n",
    "        return something\n",
    "'''"
   ]
  },
  {
   "cell_type": "code",
   "execution_count": 104,
   "id": "ec9bf558-dc6e-4aab-8e22-dbbc343af4ab",
   "metadata": {},
   "outputs": [],
   "source": [
    "#example - method\n",
    "class Calculator:\n",
    "    def add(self, a, b):  # 'add' is a method\n",
    "        return a + b\n",
    "calc = Calculator()"
   ]
  },
  {
   "cell_type": "code",
   "execution_count": 106,
   "id": "3ba055c4-9b5e-417c-aa01-097dfb8962dc",
   "metadata": {},
   "outputs": [
    {
     "name": "stdout",
     "output_type": "stream",
     "text": [
      "8\n"
     ]
    }
   ],
   "source": [
    "result = calc.add(5, 3)\n",
    "print(result)"
   ]
  },
  {
   "cell_type": "code",
   "execution_count": null,
   "id": "61e43697-775e-4de2-89c9-b75882222fcc",
   "metadata": {},
   "outputs": [],
   "source": [
    "# 2. Explain the concept of function arguments and parameters in Python."
   ]
  },
  {
   "cell_type": "code",
   "execution_count": null,
   "id": "bffae8c4-962e-44f2-b767-6aa80106e7b1",
   "metadata": {},
   "outputs": [],
   "source": [
    "# A. A function is a block of reusable code that performs a specific task\n",
    "# why functions >> They are reusable\n",
    "# the code remains neat and clean and organized, saves the time"
   ]
  },
  {
   "cell_type": "code",
   "execution_count": 18,
   "id": "2ff8f693-29c8-4016-946c-ef488c187b9a",
   "metadata": {},
   "outputs": [],
   "source": [
    "# i. Parameters - they are the placeholders (variables) defined in the function header.\n",
    "# ii. Arguments - Arguments are the actual values that are provided to the function when calling it.\n",
    "#for example \n",
    "def greet(name): #here name is the **Parameter**\n",
    "    print (\"welcome to home\", name)"
   ]
  },
  {
   "cell_type": "code",
   "execution_count": 23,
   "id": "107e0370-c4c9-4e36-91c8-ebc14f00188e",
   "metadata": {},
   "outputs": [
    {
     "name": "stdout",
     "output_type": "stream",
     "text": [
      "welcome to home keerthi\n"
     ]
    }
   ],
   "source": [
    "greet (\"keerthi\") #in the example \"keerthi\" is the **Argument**"
   ]
  },
  {
   "cell_type": "code",
   "execution_count": 28,
   "id": "fd83a239-0ad9-4ce4-a076-143afce7dd17",
   "metadata": {},
   "outputs": [],
   "source": [
    "#Another example\n",
    "\n",
    "def add_numbers(a,b):\n",
    "    return (a+b)"
   ]
  },
  {
   "cell_type": "code",
   "execution_count": 30,
   "id": "91e57d30-5a93-4d48-8491-f607121e9156",
   "metadata": {},
   "outputs": [
    {
     "data": {
      "text/plain": [
       "7"
      ]
     },
     "execution_count": 30,
     "metadata": {},
     "output_type": "execute_result"
    }
   ],
   "source": [
    "add_numbers(3,4)"
   ]
  },
  {
   "cell_type": "code",
   "execution_count": 32,
   "id": "f3aa2239-d092-44e8-aca0-8f3e305a45c9",
   "metadata": {},
   "outputs": [],
   "source": [
    "# in above example the add_numbers is the function defnition \n",
    "# a, b are the parameters and \n",
    "# 3,4 are the arguments provided"
   ]
  },
  {
   "cell_type": "code",
   "execution_count": 38,
   "id": "bca518a8-dc18-4565-a3ee-83499726fe9f",
   "metadata": {},
   "outputs": [],
   "source": [
    "# Types of Arguments\n",
    "# a. Positional arguments\n",
    "    #Arguments are assigned to parameters based on their position in the function call.\n",
    "#for example>> \n",
    "\n",
    "def multiply(a,b):\n",
    "      return(a*b)\n",
    "    "
   ]
  },
  {
   "cell_type": "code",
   "execution_count": 40,
   "id": "cf883756-eaa9-465f-a921-979c10a6dffc",
   "metadata": {},
   "outputs": [
    {
     "data": {
      "text/plain": [
       "12"
      ]
     },
     "execution_count": 40,
     "metadata": {},
     "output_type": "execute_result"
    }
   ],
   "source": [
    "multiply (4,3) \n",
    "#here a = 4 and b = 3 automatically without assigning, hence it is a positional argument."
   ]
  },
  {
   "cell_type": "code",
   "execution_count": 49,
   "id": "59fa6e91-231e-4ce1-a863-fa4172958017",
   "metadata": {},
   "outputs": [],
   "source": [
    "# b. Keyword Arguments\n",
    "    # Arguments are passed by specifying the parameter name.\n",
    "#for example>> \n",
    "\n",
    "def divide (a,b):\n",
    "    return (a/b)"
   ]
  },
  {
   "cell_type": "code",
   "execution_count": 51,
   "id": "72a6df7c-eaf3-49d2-916b-3c5bf37374f7",
   "metadata": {},
   "outputs": [
    {
     "data": {
      "text/plain": [
       "2.0"
      ]
     },
     "execution_count": 51,
     "metadata": {},
     "output_type": "execute_result"
    }
   ],
   "source": [
    "divide (b = 4, a = 8 ) #here we assigned the values"
   ]
  },
  {
   "cell_type": "code",
   "execution_count": 54,
   "id": "68490889-b622-450e-bee9-17b1cf90b95a",
   "metadata": {},
   "outputs": [],
   "source": [
    "# c. Default Arguments\n",
    "        #Parameters can have default values, which are used if no argument is provided.\n",
    "#for example>> \n",
    "\n",
    "def divide (a,b = 2):\n",
    "    return (a/b)"
   ]
  },
  {
   "cell_type": "code",
   "execution_count": 56,
   "id": "08ff6a8a-2c2b-48db-b1bb-07f62605ce97",
   "metadata": {},
   "outputs": [
    {
     "data": {
      "text/plain": [
       "4.0"
      ]
     },
     "execution_count": 56,
     "metadata": {},
     "output_type": "execute_result"
    }
   ],
   "source": [
    "divide (a=8) #even if we didnt assign a value for b, it took default \"2\", as we defined over there."
   ]
  },
  {
   "cell_type": "code",
   "execution_count": 59,
   "id": "7a45a120-e4c0-4507-9b5e-cca8b8ac3638",
   "metadata": {},
   "outputs": [
    {
     "name": "stdout",
     "output_type": "stream",
     "text": [
      "10\n"
     ]
    }
   ],
   "source": [
    "# d. variable length arguments\n",
    "\n",
    "# A function can accept a variable number of arguments using **args and **kwargs\n",
    "\n",
    "# i. Positional Variable-Length Arguments (**args)\n",
    " #here the arguments are not fixed, we can change it according to need by using **args\n",
    "\n",
    "#example \n",
    "def total_sum(*numbers):\n",
    "    return sum(numbers)\n",
    "\n",
    "print(total_sum(1, 2, 3, 4)) \n"
   ]
  },
  {
   "cell_type": "code",
   "execution_count": 70,
   "id": "49f5515d-70ea-4be9-9f41-3e1941bea152",
   "metadata": {},
   "outputs": [],
   "source": [
    "# ii. Keyword Variable-Length Arguments - (**kwargs)\n",
    "\n",
    "# Collects extra keyword arguments into a dictionary.\n",
    "\n",
    "def marks_in_subject(**kwargs):\n",
    "    marks_list =[]\n",
    "    for sub, marks in kwargs.items():\n",
    "        marks_list.append(marks)\n",
    "\n",
    "    return marks_list"
   ]
  },
  {
   "cell_type": "code",
   "execution_count": 74,
   "id": "f705ed2b-a53f-4f19-8e28-b12586877ae1",
   "metadata": {},
   "outputs": [
    {
     "data": {
      "text/plain": [
       "[90, 30]"
      ]
     },
     "execution_count": 74,
     "metadata": {},
     "output_type": "execute_result"
    }
   ],
   "source": [
    "marks_in_subject (a=90,b=30)"
   ]
  },
  {
   "cell_type": "code",
   "execution_count": null,
   "id": "e8b60236-3eeb-48df-a0c0-d92d7000cc41",
   "metadata": {},
   "outputs": [],
   "source": [
    "# 3.What are the different ways to define and call a function in Python?"
   ]
  },
  {
   "cell_type": "code",
   "execution_count": 288,
   "id": "eabdd43e-b602-4c1f-9d1f-c19b4def5395",
   "metadata": {},
   "outputs": [],
   "source": [
    "# A. There are different ways to define and call functions according to their needs.\n",
    "\n",
    "#a . Regular function - A standard function with or without parameters and a return value.\n",
    "#example - definition\n",
    "\n",
    "def greet (name):\n",
    "    print(\"welcome_home\", name)"
   ]
  },
  {
   "cell_type": "code",
   "execution_count": 293,
   "id": "a1efb8e7-4456-4536-b558-2e445bd5a203",
   "metadata": {},
   "outputs": [
    {
     "name": "stdout",
     "output_type": "stream",
     "text": [
      "welcome_home keerthi\n"
     ]
    }
   ],
   "source": [
    "greet(\"keerthi\")"
   ]
  },
  {
   "cell_type": "code",
   "execution_count": 369,
   "id": "615baf9a-f920-49f4-8254-f7b1485b07a5",
   "metadata": {},
   "outputs": [],
   "source": [
    "# b. Function with return value - \n",
    "\n",
    "# Functions can return a value using the return keyword. \n",
    "# This allows the function to output a result that can be used later.\n",
    "\n",
    "#example\n",
    "\n",
    "def add(a, b):\n",
    "     return  a + b"
   ]
  },
  {
   "cell_type": "code",
   "execution_count": 380,
   "id": "0e638c15-a826-445c-bd4e-1a0524f011bc",
   "metadata": {},
   "outputs": [
    {
     "name": "stdout",
     "output_type": "stream",
     "text": [
      "12\n"
     ]
    }
   ],
   "source": [
    "sum_result = add(9,3)\n",
    "print(sum_result) # the output will be stored."
   ]
  },
  {
   "cell_type": "code",
   "execution_count": 382,
   "id": "ec3c181e-3a81-4661-8409-882b274343c3",
   "metadata": {},
   "outputs": [
    {
     "name": "stdout",
     "output_type": "stream",
     "text": [
      "16\n"
     ]
    }
   ],
   "source": [
    "# c. Lambda function - \n",
    "\n",
    "#it is an anonymous function\n",
    "# it is used with the keyword \"lambda\"\n",
    "# it is used for simple operations\n",
    "\n",
    "\n",
    "#example - for square of the given number\n",
    "\n",
    "square = lambda x: x ** 2\n",
    "print(square(4)) "
   ]
  },
  {
   "cell_type": "code",
   "execution_count": 406,
   "id": "842789ad-b6be-40d4-869c-52a9013f7ff5",
   "metadata": {},
   "outputs": [
    {
     "name": "stdout",
     "output_type": "stream",
     "text": [
      "Hello, Guest!\n"
     ]
    }
   ],
   "source": [
    "#d. Function with default arguments\n",
    "\n",
    "#even though we dont add any argument it will give an output with default value \n",
    "\n",
    "def greet(name = \"Guest\"):\n",
    "    print(f\"Hello, {name}!\")\n",
    "\n",
    "greet() \n"
   ]
  },
  {
   "cell_type": "code",
   "execution_count": 408,
   "id": "3a1028ae-d6ae-41ca-8971-d9a17bc75e56",
   "metadata": {},
   "outputs": [
    {
     "name": "stdout",
     "output_type": "stream",
     "text": [
      "Hello, keerthi!\n"
     ]
    }
   ],
   "source": [
    "greet(\"keerthi\")  #if we include an argument then it gives an output with that"
   ]
  },
  {
   "cell_type": "code",
   "execution_count": 412,
   "id": "3c415a36-8894-406b-a88b-2e3168ff9e42",
   "metadata": {},
   "outputs": [
    {
     "name": "stdout",
     "output_type": "stream",
     "text": [
      "Name: Ajay, Age: 25\n"
     ]
    }
   ],
   "source": [
    "# e. Keyword arguments - here we name the arguments in the call itself.\n",
    "\n",
    "def display_info(name, age):\n",
    "    print(f\"Name: {name}, Age: {age}\")\n",
    "\n",
    "# Calling with keyword arguments\n",
    "display_info(age=25, name=\"Ajay\")\n"
   ]
  },
  {
   "cell_type": "code",
   "execution_count": 436,
   "id": "5c896523-baff-44f6-9007-debff113edf4",
   "metadata": {},
   "outputs": [],
   "source": [
    "#f. Variable keyword arguments -\n",
    "\n",
    "# Functions can accept a variable number of arguments \n",
    "# using *args for non-keyword arguments \n",
    "# and **kwargs for keyword arguments"
   ]
  },
  {
   "cell_type": "code",
   "execution_count": 446,
   "id": "f5892604-71d8-4ddb-95d2-85e0421c446d",
   "metadata": {},
   "outputs": [],
   "source": [
    "#example - **args\n",
    "def sum1(*args):\n",
    "    s = 0\n",
    "    for i in args:\n",
    "        s = s+i\n",
    "    return s"
   ]
  },
  {
   "cell_type": "code",
   "execution_count": 448,
   "id": "4ad93782-60b0-489f-96ef-6ea21691920d",
   "metadata": {},
   "outputs": [
    {
     "data": {
      "text/plain": [
       "6"
      ]
     },
     "execution_count": 448,
     "metadata": {},
     "output_type": "execute_result"
    }
   ],
   "source": [
    "sum1(1,2,3)"
   ]
  },
  {
   "cell_type": "code",
   "execution_count": 431,
   "id": "9d0df7df-b9fa-4428-8885-d1cc7579918a",
   "metadata": {},
   "outputs": [
    {
     "name": "stdout",
     "output_type": "stream",
     "text": [
      "name: keerthana\n",
      "age: 29\n",
      "job: business analyst\n"
     ]
    }
   ],
   "source": [
    "#example - **kwargs\n",
    "def display_info(**kwargs):\n",
    "    for key, value in kwargs.items():\n",
    "        print(f\"{key}: {value}\")\n",
    "\n",
    "display_info(name=\"keerthana\", age=29, job=\"business analyst\")\n"
   ]
  },
  {
   "cell_type": "code",
   "execution_count": null,
   "id": "d828dae4-bc17-4b01-9568-988dbbb5d4a1",
   "metadata": {},
   "outputs": [],
   "source": [
    "# 4. What is the purpose of the `return` statement in a Python function?"
   ]
  },
  {
   "cell_type": "code",
   "execution_count": null,
   "id": "868ae226-aeca-4ee2-b02e-2926933585ae",
   "metadata": {},
   "outputs": [],
   "source": [
    "# A. The return statement is used to end the execution and return the result to the caller.\n",
    "# the result is stored and can be used later in the program"
   ]
  },
  {
   "cell_type": "code",
   "execution_count": null,
   "id": "e7df2e62-e6b1-4cb5-98c3-688ee02c5b09",
   "metadata": {},
   "outputs": [],
   "source": [
    "#syntax\n",
    "'''\n",
    "def fun():\n",
    "    statements\n",
    "    .\n",
    "    .\n",
    "    return [expression]\n",
    "'''"
   ]
  },
  {
   "cell_type": "code",
   "execution_count": null,
   "id": "c8efed8f-473e-4b5c-acea-cf9e3a38a4a6",
   "metadata": {},
   "outputs": [],
   "source": [
    "#Determines the value that the function will return. \n",
    "#If not included, the function defaults to returning None."
   ]
  },
  {
   "cell_type": "code",
   "execution_count": 451,
   "id": "43d71fca-e596-4f87-8584-13c1079648c6",
   "metadata": {},
   "outputs": [
    {
     "data": {
      "text/plain": [
       "27"
      ]
     },
     "execution_count": 451,
     "metadata": {},
     "output_type": "execute_result"
    }
   ],
   "source": [
    "#example - cube of the numbers\n",
    "\n",
    "def cube(x):\n",
    "    return x**3\n",
    "\n",
    "cube(3)\n",
    "\n"
   ]
  },
  {
   "cell_type": "code",
   "execution_count": 143,
   "id": "ce643c0b-ab99-4a90-8cd7-43c8172b5e01",
   "metadata": {},
   "outputs": [
    {
     "name": "stdout",
     "output_type": "stream",
     "text": [
      "1\n",
      "2\n",
      "3\n",
      "keerthana\n"
     ]
    }
   ],
   "source": [
    "# 5. What are iterators in Python and how do they differ from iterables?\n",
    "\n",
    "# A. \n",
    "\n",
    "# a) An Iterable is a any python object/ sequential data structure that is capable of returning \n",
    "    #its members one at a time.\n",
    "    #permitting it to be iterated in a for loop \n",
    "    #example - tuples, strings, lists\n",
    "\n",
    "#example 1 \n",
    "list = [1,2,3,\"keerthana\"]\n",
    "for i in list:\n",
    "    print(i)"
   ]
  },
  {
   "cell_type": "code",
   "execution_count": 147,
   "id": "310f5450-e674-444b-9750-f0297a7643e7",
   "metadata": {},
   "outputs": [
    {
     "name": "stdout",
     "output_type": "stream",
     "text": [
      "k\n",
      "e\n",
      "e\n",
      "r\n",
      "t\n",
      "h\n",
      "a\n",
      "n\n",
      "a\n"
     ]
    }
   ],
   "source": [
    "#b) Iteration - \n",
    "# Iteration is a process of looping through the elements for an iterable (list, strings)\n",
    "#iteration is done using a loop\n",
    "\n",
    "#example \n",
    "for i in \"keerthana\":\n",
    "    print(i)"
   ]
  },
  {
   "cell_type": "code",
   "execution_count": 153,
   "id": "034f90b3-126c-4cd1-b3cd-7567f33fdbb0",
   "metadata": {},
   "outputs": [
    {
     "name": "stdout",
     "output_type": "stream",
     "text": [
      "k\n",
      "e\n",
      "e\n",
      "r\n",
      "t\n",
      "h\n",
      "i\n"
     ]
    }
   ],
   "source": [
    "# c) Iterator\n",
    "\n",
    "#An Iterator is an object which represents a stram of data, the work of it is to return the data, one by one.\n",
    "#example\n",
    "s =  \"keerthi\"\n",
    "for i in s:\n",
    "    print(i)"
   ]
  },
  {
   "cell_type": "code",
   "execution_count": 161,
   "id": "6576b584-5a4c-4dd0-a39b-096fcd132e62",
   "metadata": {},
   "outputs": [
    {
     "data": {
      "text/plain": [
       "<str_ascii_iterator at 0x121aec7f0>"
      ]
     },
     "execution_count": 161,
     "metadata": {},
     "output_type": "execute_result"
    }
   ],
   "source": [
    "a = iter(s) #the process to reach iteration - python checks whether it can perform the iteration.\n",
    "a"
   ]
  },
  {
   "cell_type": "code",
   "execution_count": 163,
   "id": "33c1acf3-375d-4133-a8d9-4cdb40525171",
   "metadata": {},
   "outputs": [
    {
     "data": {
      "text/plain": [
       "'k'"
      ]
     },
     "execution_count": 163,
     "metadata": {},
     "output_type": "execute_result"
    }
   ],
   "source": [
    "next(a)"
   ]
  },
  {
   "cell_type": "code",
   "execution_count": 165,
   "id": "87508718-5626-4bb5-bfd7-290e2f62c045",
   "metadata": {},
   "outputs": [
    {
     "data": {
      "text/plain": [
       "'e'"
      ]
     },
     "execution_count": 165,
     "metadata": {},
     "output_type": "execute_result"
    }
   ],
   "source": [
    "next(a)"
   ]
  },
  {
   "cell_type": "code",
   "execution_count": 167,
   "id": "3914ad6b-127e-44be-8014-4c5022ba9dec",
   "metadata": {},
   "outputs": [
    {
     "data": {
      "text/plain": [
       "'e'"
      ]
     },
     "execution_count": 167,
     "metadata": {},
     "output_type": "execute_result"
    }
   ],
   "source": [
    "next(a)"
   ]
  },
  {
   "cell_type": "code",
   "execution_count": 169,
   "id": "0aeaf6ae-5780-4f68-a4b3-376af7877cab",
   "metadata": {},
   "outputs": [
    {
     "data": {
      "text/plain": [
       "'r'"
      ]
     },
     "execution_count": 169,
     "metadata": {},
     "output_type": "execute_result"
    }
   ],
   "source": [
    "next(a)"
   ]
  },
  {
   "cell_type": "code",
   "execution_count": 171,
   "id": "264f3ddb-511d-45fa-ba49-c00da6e97457",
   "metadata": {},
   "outputs": [
    {
     "data": {
      "text/plain": [
       "'t'"
      ]
     },
     "execution_count": 171,
     "metadata": {},
     "output_type": "execute_result"
    }
   ],
   "source": [
    "next(a)"
   ]
  },
  {
   "cell_type": "code",
   "execution_count": 173,
   "id": "905b6515-cf10-4497-9cd7-2376101c8139",
   "metadata": {},
   "outputs": [
    {
     "data": {
      "text/plain": [
       "'h'"
      ]
     },
     "execution_count": 173,
     "metadata": {},
     "output_type": "execute_result"
    }
   ],
   "source": [
    "next(a)"
   ]
  },
  {
   "cell_type": "code",
   "execution_count": 175,
   "id": "b6833d26-46ca-49dc-a878-ffcc510a61c0",
   "metadata": {},
   "outputs": [
    {
     "data": {
      "text/plain": [
       "'i'"
      ]
     },
     "execution_count": 175,
     "metadata": {},
     "output_type": "execute_result"
    }
   ],
   "source": [
    "next(a)"
   ]
  },
  {
   "cell_type": "code",
   "execution_count": 177,
   "id": "9b404068-5980-41c4-aff3-7d34bc171914",
   "metadata": {},
   "outputs": [
    {
     "ename": "StopIteration",
     "evalue": "",
     "output_type": "error",
     "traceback": [
      "\u001b[0;31m---------------------------------------------------------------------------\u001b[0m",
      "\u001b[0;31mStopIteration\u001b[0m                             Traceback (most recent call last)",
      "Cell \u001b[0;32mIn[177], line 1\u001b[0m\n\u001b[0;32m----> 1\u001b[0m \u001b[38;5;28mnext\u001b[39m(a)\n",
      "\u001b[0;31mStopIteration\u001b[0m: "
     ]
    }
   ],
   "source": [
    "next(a) #stop_iteration"
   ]
  },
  {
   "cell_type": "code",
   "execution_count": 179,
   "id": "719ae5de-8f65-4cff-8445-30953c80e579",
   "metadata": {},
   "outputs": [
    {
     "data": {
      "text/plain": [
       "<list_iterator at 0x12142fd60>"
      ]
     },
     "execution_count": 179,
     "metadata": {},
     "output_type": "execute_result"
    }
   ],
   "source": [
    "#python is converting iterable object to iterator object (using iter() and next())\n",
    "\n",
    "#example -\n",
    "l = iter([1,2,3,4])\n",
    "l\n"
   ]
  },
  {
   "cell_type": "code",
   "execution_count": 181,
   "id": "ef750ddd-a178-448f-b4b4-682e544efd79",
   "metadata": {},
   "outputs": [
    {
     "data": {
      "text/plain": [
       "1"
      ]
     },
     "execution_count": 181,
     "metadata": {},
     "output_type": "execute_result"
    }
   ],
   "source": [
    "next(l)"
   ]
  },
  {
   "cell_type": "code",
   "execution_count": 183,
   "id": "13cd5e5a-c73d-4825-b150-3b77cc2fa2da",
   "metadata": {},
   "outputs": [
    {
     "data": {
      "text/plain": [
       "2"
      ]
     },
     "execution_count": 183,
     "metadata": {},
     "output_type": "execute_result"
    }
   ],
   "source": [
    "next(l)"
   ]
  },
  {
   "cell_type": "code",
   "execution_count": 187,
   "id": "f3201122-6c88-43a1-92c7-b15f61a592c7",
   "metadata": {},
   "outputs": [
    {
     "data": {
      "text/plain": [
       "3"
      ]
     },
     "execution_count": 187,
     "metadata": {},
     "output_type": "execute_result"
    }
   ],
   "source": [
    "next(l)"
   ]
  },
  {
   "cell_type": "code",
   "execution_count": 189,
   "id": "b3ef5bb3-cdfd-4084-82c4-a1101e31b9a9",
   "metadata": {},
   "outputs": [
    {
     "data": {
      "text/plain": [
       "4"
      ]
     },
     "execution_count": 189,
     "metadata": {},
     "output_type": "execute_result"
    }
   ],
   "source": [
    "next(l)"
   ]
  },
  {
   "cell_type": "code",
   "execution_count": 191,
   "id": "a49eb9db-a5d2-4bbc-be1a-f26d388699aa",
   "metadata": {
    "scrolled": true
   },
   "outputs": [
    {
     "ename": "StopIteration",
     "evalue": "",
     "output_type": "error",
     "traceback": [
      "\u001b[0;31m---------------------------------------------------------------------------\u001b[0m",
      "\u001b[0;31mStopIteration\u001b[0m                             Traceback (most recent call last)",
      "Cell \u001b[0;32mIn[191], line 1\u001b[0m\n\u001b[0;32m----> 1\u001b[0m \u001b[38;5;28mnext\u001b[39m(l)\n",
      "\u001b[0;31mStopIteration\u001b[0m: "
     ]
    }
   ],
   "source": [
    "next(l)"
   ]
  },
  {
   "cell_type": "code",
   "execution_count": null,
   "id": "5d17daca-201b-4053-b55c-95abe512333c",
   "metadata": {},
   "outputs": [],
   "source": [
    "# 6. Explain the concept of generators in Python and how they are defined.\n",
    "\n"
   ]
  },
  {
   "cell_type": "code",
   "execution_count": null,
   "id": "8b7150c0-4fad-4f9e-b0f4-8b3d048a6035",
   "metadata": {},
   "outputs": [],
   "source": [
    "# A. Generators are a type of iterators which will iterate over a sequence of value without storing entire sequence in memory at once.\n",
    "# it generates each value at a time as needed.\n",
    "#generators are ueful when using large sets of values or infinite sequence, \n",
    "#as they are memory efficient"
   ]
  },
  {
   "cell_type": "code",
   "execution_count": null,
   "id": "9fd6ca33-c3fb-4f89-9264-576cbbd458de",
   "metadata": {},
   "outputs": [],
   "source": [
    "# Defining the generators \n",
    "# A generator is defined using a function with the yield keyword.\n",
    "#The yield statement produces a value and pauses the function's execution. \n",
    "# The next time the generator is called, it resumes from where it left off."
   ]
  },
  {
   "cell_type": "code",
   "execution_count": 207,
   "id": "794231bd-ac35-4a10-b0d5-e1b92575b666",
   "metadata": {},
   "outputs": [],
   "source": [
    "#example - finding square of the numbers\n",
    "def square_numbers(n):\n",
    "    for i in range (n):\n",
    "        yield i ** 2\n"
   ]
  },
  {
   "cell_type": "code",
   "execution_count": 209,
   "id": "57f9bc5f-3faf-4644-b8fa-c4f54d43bb67",
   "metadata": {},
   "outputs": [],
   "source": [
    "a = square_numbers(6)"
   ]
  },
  {
   "cell_type": "code",
   "execution_count": 211,
   "id": "721ee24a-aaec-4928-b34d-306d89f7078e",
   "metadata": {},
   "outputs": [
    {
     "data": {
      "text/plain": [
       "0"
      ]
     },
     "execution_count": 211,
     "metadata": {},
     "output_type": "execute_result"
    }
   ],
   "source": [
    "next(a)"
   ]
  },
  {
   "cell_type": "code",
   "execution_count": 213,
   "id": "ad3b21dd-3f58-468e-a493-dd6d6ce87337",
   "metadata": {},
   "outputs": [
    {
     "data": {
      "text/plain": [
       "1"
      ]
     },
     "execution_count": 213,
     "metadata": {},
     "output_type": "execute_result"
    }
   ],
   "source": [
    "next (a)"
   ]
  },
  {
   "cell_type": "code",
   "execution_count": 215,
   "id": "184ebf94-1107-479d-9263-fdf9cfff6dd0",
   "metadata": {},
   "outputs": [
    {
     "data": {
      "text/plain": [
       "4"
      ]
     },
     "execution_count": 215,
     "metadata": {},
     "output_type": "execute_result"
    }
   ],
   "source": [
    "next(a)"
   ]
  },
  {
   "cell_type": "code",
   "execution_count": 217,
   "id": "8fc5d2ed-9bd1-4b91-9546-0ae89913f472",
   "metadata": {},
   "outputs": [
    {
     "data": {
      "text/plain": [
       "9"
      ]
     },
     "execution_count": 217,
     "metadata": {},
     "output_type": "execute_result"
    }
   ],
   "source": [
    "next(a)"
   ]
  },
  {
   "cell_type": "code",
   "execution_count": 219,
   "id": "668d3984-d35b-446e-b4b7-5f6519291a14",
   "metadata": {},
   "outputs": [
    {
     "data": {
      "text/plain": [
       "16"
      ]
     },
     "execution_count": 219,
     "metadata": {},
     "output_type": "execute_result"
    }
   ],
   "source": [
    "next(a)"
   ]
  },
  {
   "cell_type": "code",
   "execution_count": 221,
   "id": "bca36d01-bb81-4adf-b949-353fdccc3abb",
   "metadata": {},
   "outputs": [
    {
     "data": {
      "text/plain": [
       "25"
      ]
     },
     "execution_count": 221,
     "metadata": {},
     "output_type": "execute_result"
    }
   ],
   "source": [
    "next(a)"
   ]
  },
  {
   "cell_type": "code",
   "execution_count": 223,
   "id": "8ceaba35-2ab8-4697-b262-16a1a21f93ef",
   "metadata": {},
   "outputs": [
    {
     "ename": "StopIteration",
     "evalue": "",
     "output_type": "error",
     "traceback": [
      "\u001b[0;31m---------------------------------------------------------------------------\u001b[0m",
      "\u001b[0;31mStopIteration\u001b[0m                             Traceback (most recent call last)",
      "Cell \u001b[0;32mIn[223], line 1\u001b[0m\n\u001b[0;32m----> 1\u001b[0m \u001b[38;5;28mnext\u001b[39m(a)\n",
      "\u001b[0;31mStopIteration\u001b[0m: "
     ]
    }
   ],
   "source": [
    "next(a)"
   ]
  },
  {
   "cell_type": "code",
   "execution_count": null,
   "id": "83aa1777-a4b9-4b49-ae6a-2284b73e6f9f",
   "metadata": {},
   "outputs": [],
   "source": [
    "# 7. What are the advantages of using generators over regular functions?"
   ]
  },
  {
   "cell_type": "code",
   "execution_count": null,
   "id": "011abad1-aa95-4615-aa32-ab59a81a78d9",
   "metadata": {},
   "outputs": [],
   "source": [
    "'''\n",
    "A. Using generators are beneficial over regular function as it reduces the memory usage. \n",
    " i. Generators evaluates one by one whereas regular function evaluates at once.\n",
    "\n",
    "ii. Generators are best when we are working on infinite sequence as they return one by one result\n",
    "\n",
    "iii. whereas the regular function computes all the infinite series at once and exhausts the memory\n",
    "\n",
    "iv. Generators are best when we work on large datasets and when we need a certain result from it.\n",
    "\n",
    "v.  When it comes to regular functions they consume time when working on large datasets.\n",
    "\n",
    "vi. Also the iterations are fast with generators compared to regular functions.\n",
    "\n",
    "'''\n"
   ]
  },
  {
   "cell_type": "code",
   "execution_count": 261,
   "id": "151bd0ed-6a24-4de5-868a-e35f1439e292",
   "metadata": {},
   "outputs": [],
   "source": [
    "# example of regular function - finding cube of the number\n",
    "\n",
    "def cube_numbers(n):\n",
    "    cubes = []\n",
    "    for i in range (n):\n",
    "        cubes.append(i ** 3)\n",
    "    return cubes"
   ]
  },
  {
   "cell_type": "code",
   "execution_count": 263,
   "id": "13853142-6d4e-400c-8911-e3af6da45d97",
   "metadata": {},
   "outputs": [
    {
     "data": {
      "text/plain": [
       "[0, 1, 8]"
      ]
     },
     "execution_count": 263,
     "metadata": {},
     "output_type": "execute_result"
    }
   ],
   "source": [
    " cube_numbers(3)"
   ]
  },
  {
   "cell_type": "code",
   "execution_count": 229,
   "id": "2f44b33f-33f2-414d-aa74-7a6b14226d1f",
   "metadata": {},
   "outputs": [],
   "source": [
    "# example of generator function - finding cube of the number\n",
    "\n",
    "def cube_numbers(n):\n",
    "    for i in range (n):\n",
    "        yield i ** 3"
   ]
  },
  {
   "cell_type": "code",
   "execution_count": 243,
   "id": "7956bb34-4f2d-49ee-9760-4d33aa62b294",
   "metadata": {},
   "outputs": [],
   "source": [
    "a = cube_numbers(3)"
   ]
  },
  {
   "cell_type": "code",
   "execution_count": 245,
   "id": "27e4eab5-42fa-4bc8-9823-efb692b37edd",
   "metadata": {},
   "outputs": [
    {
     "data": {
      "text/plain": [
       "0"
      ]
     },
     "execution_count": 245,
     "metadata": {},
     "output_type": "execute_result"
    }
   ],
   "source": [
    "next(a)"
   ]
  },
  {
   "cell_type": "code",
   "execution_count": 247,
   "id": "b10fe2cc-1c1e-4e95-9696-398dfc451744",
   "metadata": {},
   "outputs": [
    {
     "data": {
      "text/plain": [
       "1"
      ]
     },
     "execution_count": 247,
     "metadata": {},
     "output_type": "execute_result"
    }
   ],
   "source": [
    "next(a)"
   ]
  },
  {
   "cell_type": "code",
   "execution_count": 249,
   "id": "a8dd565e-5edd-4ff5-b915-c33cf2318a63",
   "metadata": {},
   "outputs": [
    {
     "data": {
      "text/plain": [
       "8"
      ]
     },
     "execution_count": 249,
     "metadata": {},
     "output_type": "execute_result"
    }
   ],
   "source": [
    "next(a)"
   ]
  },
  {
   "cell_type": "code",
   "execution_count": 251,
   "id": "cd3a5f8d-c75a-4207-b169-1def06a688e4",
   "metadata": {},
   "outputs": [
    {
     "ename": "StopIteration",
     "evalue": "",
     "output_type": "error",
     "traceback": [
      "\u001b[0;31m---------------------------------------------------------------------------\u001b[0m",
      "\u001b[0;31mStopIteration\u001b[0m                             Traceback (most recent call last)",
      "Cell \u001b[0;32mIn[251], line 1\u001b[0m\n\u001b[0;32m----> 1\u001b[0m \u001b[38;5;28mnext\u001b[39m(a)\n",
      "\u001b[0;31mStopIteration\u001b[0m: "
     ]
    }
   ],
   "source": [
    "next(a) #"
   ]
  },
  {
   "cell_type": "code",
   "execution_count": null,
   "id": "aa53a93c-fb75-4268-861b-781588c8383e",
   "metadata": {},
   "outputs": [],
   "source": [
    "# 8. What is a lambda function in Python and when is it typically used?"
   ]
  },
  {
   "cell_type": "code",
   "execution_count": null,
   "id": "365eacf5-f92d-4537-97dc-b4f93e047865",
   "metadata": {},
   "outputs": [],
   "source": [
    "#A. Lambda function>> anonymous function\n",
    "\n",
    "#Syntax of lambda function\n",
    "#lambda arguments: expression\n",
    "#the keyword is lambda"
   ]
  },
  {
   "cell_type": "code",
   "execution_count": 298,
   "id": "e795dd84-22a3-417a-ad0c-a0fbefed467b",
   "metadata": {},
   "outputs": [],
   "source": [
    "#example 1 - square of the number\n",
    "square_lambda = lambda x : x **2"
   ]
  },
  {
   "cell_type": "code",
   "execution_count": 300,
   "id": "13c64f91-e4e8-442b-868a-5b8fd3051198",
   "metadata": {},
   "outputs": [
    {
     "data": {
      "text/plain": [
       "9"
      ]
     },
     "execution_count": 300,
     "metadata": {},
     "output_type": "execute_result"
    }
   ],
   "source": [
    "square_lambda(3)"
   ]
  },
  {
   "cell_type": "code",
   "execution_count": 304,
   "id": "a6da3dab-5a8d-4b11-8f6c-fc09b437ca11",
   "metadata": {},
   "outputs": [],
   "source": [
    "#example 2 - fibonmacci series\n",
    "#getting fibonacci series with lambda\n",
    "fib = lambda n : n if n<=1 else fib(n-1) + fib(n-2)"
   ]
  },
  {
   "cell_type": "code",
   "execution_count": 307,
   "id": "928dd652-a1c1-4988-81c6-904c5271de7b",
   "metadata": {},
   "outputs": [
    {
     "data": {
      "text/plain": [
       "[0, 1, 1, 2, 3, 5, 8, 13, 21, 34]"
      ]
     },
     "execution_count": 307,
     "metadata": {},
     "output_type": "execute_result"
    }
   ],
   "source": [
    "[fib(i) for i in range(10)]"
   ]
  },
  {
   "cell_type": "code",
   "execution_count": null,
   "id": "5550e154-1fe5-4004-993e-433f20bf3eac",
   "metadata": {},
   "outputs": [],
   "source": [
    "# when the lambda is used \n",
    "\n",
    "#1. it is used when the expression is simple and need one liner\n",
    "#2. when the function is only used temporarily as it has no name by default\n",
    "#3. best for one time use"
   ]
  },
  {
   "cell_type": "code",
   "execution_count": null,
   "id": "34568032-46c3-4fe1-ac22-88973195daa9",
   "metadata": {},
   "outputs": [],
   "source": [
    "# 9. Explain the purpose and usage of the `map()` function in Python.\n"
   ]
  },
  {
   "cell_type": "code",
   "execution_count": null,
   "id": "b1b4553b-6e58-44e7-9d1c-4391d23f2ec3",
   "metadata": {},
   "outputs": [],
   "source": [
    "#A. map - Executes a specified function for each of the item in an iterable"
   ]
  },
  {
   "cell_type": "code",
   "execution_count": null,
   "id": "9f7d5db5-f871-449a-84fd-205e023c2022",
   "metadata": {},
   "outputs": [],
   "source": [
    "#syntax\n",
    "# map = (funcion, *iterables)"
   ]
  },
  {
   "cell_type": "code",
   "execution_count": 309,
   "id": "cdca3e43-1c86-41d5-8a24-3d2e41cca9b9",
   "metadata": {},
   "outputs": [
    {
     "name": "stdout",
     "output_type": "stream",
     "text": [
      "Help on class map in module builtins:\n",
      "\n",
      "class map(object)\n",
      " |  map(func, *iterables) --> map object\n",
      " |\n",
      " |  Make an iterator that computes the function using arguments from\n",
      " |  each of the iterables.  Stops when the shortest iterable is exhausted.\n",
      " |\n",
      " |  Methods defined here:\n",
      " |\n",
      " |  __getattribute__(self, name, /)\n",
      " |      Return getattr(self, name).\n",
      " |\n",
      " |  __iter__(self, /)\n",
      " |      Implement iter(self).\n",
      " |\n",
      " |  __next__(self, /)\n",
      " |      Implement next(self).\n",
      " |\n",
      " |  __reduce__(...)\n",
      " |      Return state information for pickling.\n",
      " |\n",
      " |  ----------------------------------------------------------------------\n",
      " |  Static methods defined here:\n",
      " |\n",
      " |  __new__(*args, **kwargs)\n",
      " |      Create and return a new object.  See help(type) for accurate signature.\n",
      "\n"
     ]
    }
   ],
   "source": [
    "help(map)"
   ]
  },
  {
   "cell_type": "code",
   "execution_count": 326,
   "id": "77e67b93-e00c-4c2d-a2d3-66ff77875bd8",
   "metadata": {},
   "outputs": [],
   "source": [
    "# example 1 using map in regular functions \n",
    "#find the squares of l\n",
    "l = [3,4,5,6]\n",
    "# need square of l\n",
    "\n",
    "def square(l):\n",
    "    return l**2"
   ]
  },
  {
   "cell_type": "code",
   "execution_count": 328,
   "id": "9dc6d04b-d8e5-4064-9cfd-c84ac160fca0",
   "metadata": {},
   "outputs": [
    {
     "data": {
      "text/plain": [
       "(9, 16, 25, 36)"
      ]
     },
     "execution_count": 328,
     "metadata": {},
     "output_type": "execute_result"
    }
   ],
   "source": [
    "tuple(map(square,l))"
   ]
  },
  {
   "cell_type": "code",
   "execution_count": 332,
   "id": "99cf0c44-6511-479b-aa5b-62bf6a7ea633",
   "metadata": {},
   "outputs": [
    {
     "data": {
      "text/plain": [
       "(9, 16, 25, 36)"
      ]
     },
     "execution_count": 332,
     "metadata": {},
     "output_type": "execute_result"
    }
   ],
   "source": [
    "# example 2 using map with lambda function\n",
    "#find the squares of l\n",
    "tuple(map(lambda x: x**2, l)) "
   ]
  },
  {
   "cell_type": "code",
   "execution_count": 343,
   "id": "00e257ae-27df-406d-8b42-61bef90a810a",
   "metadata": {},
   "outputs": [
    {
     "data": {
      "text/plain": [
       "('Ajay', 'Vijay', 'Latha')"
      ]
     },
     "execution_count": 343,
     "metadata": {},
     "output_type": "execute_result"
    }
   ],
   "source": [
    "#example 3 capitalizing the words\n",
    "\n",
    "a = (\"ajay\", \"vijay\", \"latha\")\n",
    "\n",
    "tuple(map(str.capitalize, a))"
   ]
  },
  {
   "cell_type": "code",
   "execution_count": null,
   "id": "ac1d82d8-32f1-4c16-9020-0d82f109e760",
   "metadata": {},
   "outputs": [],
   "source": [
    "# Map returns an iterator until it is explicitly iterated, saving memory for large data sets."
   ]
  },
  {
   "cell_type": "code",
   "execution_count": 347,
   "id": "ca28be65-1e12-4bb8-8d53-61dca9b954cb",
   "metadata": {},
   "outputs": [
    {
     "data": {
      "text/plain": [
       "<map at 0x121efda20>"
      ]
     },
     "execution_count": 347,
     "metadata": {},
     "output_type": "execute_result"
    }
   ],
   "source": [
    "# example \n",
    "map ( lambda x: x+2, (1,2,3)) # it returns iterator"
   ]
  },
  {
   "cell_type": "code",
   "execution_count": 351,
   "id": "4ee65e19-e753-4935-a961-1dfb98622866",
   "metadata": {},
   "outputs": [
    {
     "data": {
      "text/plain": [
       "(3, 4, 5)"
      ]
     },
     "execution_count": 351,
     "metadata": {},
     "output_type": "execute_result"
    }
   ],
   "source": [
    "tuple( map ( lambda x: x+2, (1,2,3))) # only when explicitly iterated it produced values"
   ]
  },
  {
   "cell_type": "code",
   "execution_count": null,
   "id": "aea57c34-9676-4083-b68a-2dc38e74e07c",
   "metadata": {},
   "outputs": [],
   "source": [
    "# it uses less memory space\n",
    "#Can process multiple iterables simultaneously (provided they are of the same length)."
   ]
  },
  {
   "cell_type": "code",
   "execution_count": 364,
   "id": "8d541165-7280-4197-933e-eae35e82ba2d",
   "metadata": {},
   "outputs": [
    {
     "data": {
      "text/plain": [
       "(3, 5, 7)"
      ]
     },
     "execution_count": 364,
     "metadata": {},
     "output_type": "execute_result"
    }
   ],
   "source": [
    "# example - adding to lists\n",
    "l1 = [1,2,3]\n",
    "l2 = [2,3,4]\n",
    "tuple(map(lambda l1,l2 : l1+l2, l1,l2))"
   ]
  },
  {
   "cell_type": "code",
   "execution_count": null,
   "id": "72c5fc48-22db-404f-a93c-09ddb86415a6",
   "metadata": {},
   "outputs": [],
   "source": [
    "# 10.What is the difference between `map()`, `reduce()`, and `filter()` functions in Python?"
   ]
  },
  {
   "cell_type": "code",
   "execution_count": 453,
   "id": "af6fff7b-9d83-4eaf-b506-37e44fc8ed0b",
   "metadata": {},
   "outputs": [],
   "source": [
    "#A. The map(), reduce(), and filter() functions in Python are functional programming tools used to process data in an iterable \n",
    "# While they are similar they have their distinct features."
   ]
  },
  {
   "cell_type": "code",
   "execution_count": null,
   "id": "bd17578e-b5bb-479b-bef0-f9e20e8ef9fb",
   "metadata": {},
   "outputs": [],
   "source": [
    "# Map - it applies a given function to each item in an iterable (e.g., list, tuple) and \n",
    "# returns a new iterable (a map object, which can be converted to a list, tuple, etc.)."
   ]
  },
  {
   "cell_type": "code",
   "execution_count": 457,
   "id": "fdd74568-89e0-4fdf-b6c5-9a4f67465c0b",
   "metadata": {},
   "outputs": [
    {
     "data": {
      "text/plain": [
       "(1, 4, 9, 16)"
      ]
     },
     "execution_count": 457,
     "metadata": {},
     "output_type": "execute_result"
    }
   ],
   "source": [
    "#syntax \n",
    "# map(function, iterable)\n",
    "#example - for the number square\n",
    "x = [1,2,3,4]\n",
    "tuple(map(lambda a : a**2, x)) #it iterates each value"
   ]
  },
  {
   "cell_type": "code",
   "execution_count": null,
   "id": "959eb398-ac9b-4afc-a230-8af83e5a0d32",
   "metadata": {},
   "outputs": [],
   "source": [
    "#reduce - it reduces the given sequence to a single value\n",
    "#atleast 2 arguments had to be present\n",
    "#it reduces from left to right"
   ]
  },
  {
   "cell_type": "code",
   "execution_count": 465,
   "id": "82d9db08-278e-4b41-8f96-e9b8a71ba520",
   "metadata": {},
   "outputs": [
    {
     "name": "stdout",
     "output_type": "stream",
     "text": [
      "24\n"
     ]
    }
   ],
   "source": [
    "#syntax\n",
    "'''\n",
    "from functools import reduce\n",
    "reduce(function, iterable)\n",
    "'''\n",
    "\n",
    "#example - Calculate the product of all numbers in the list\n",
    "\n",
    "from functools import reduce\n",
    "nums = [1, 2, 3, 4]\n",
    "result = reduce(lambda x, y: x * y, nums)\n",
    "print(result)"
   ]
  },
  {
   "cell_type": "code",
   "execution_count": 475,
   "id": "e2785ad4-fcfd-4dac-a9fe-027c837b6b3c",
   "metadata": {},
   "outputs": [
    {
     "name": "stdout",
     "output_type": "stream",
     "text": [
      "(2, 4, 6)\n"
     ]
    }
   ],
   "source": [
    "# Filter - Filters elements in an iterable based on a predicate function (a function that returns True or False). \n",
    "# Only elements where the function returns True are included in the output.\n",
    "\n",
    "#syntax\n",
    "# filter(function, iterable)\n",
    "\n",
    "# Filter out even numbers from the list\n",
    "nums = [1, 2, 3, 4, 5, 6]\n",
    "result = filter(lambda x: x % 2 == 0, nums)\n",
    "print(tuple(result))\n"
   ]
  },
  {
   "cell_type": "code",
   "execution_count": null,
   "id": "bbaf3885-c7bf-4ccc-9b6d-88d28b0ddd3b",
   "metadata": {},
   "outputs": [],
   "source": []
  }
 ],
 "metadata": {
  "kernelspec": {
   "display_name": "Python 3 (ipykernel)",
   "language": "python",
   "name": "python3"
  },
  "language_info": {
   "codemirror_mode": {
    "name": "ipython",
    "version": 3
   },
   "file_extension": ".py",
   "mimetype": "text/x-python",
   "name": "python",
   "nbconvert_exporter": "python",
   "pygments_lexer": "ipython3",
   "version": "3.12.7"
  }
 },
 "nbformat": 4,
 "nbformat_minor": 5
}
